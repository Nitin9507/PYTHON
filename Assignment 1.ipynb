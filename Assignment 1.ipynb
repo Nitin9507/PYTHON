{
 "cells": [
  {
   "cell_type": "markdown",
   "id": "f15ccbf8-e1d1-4702-84d9-84eec90c1006",
   "metadata": {},
   "source": [
    "# Assignmet 1"
   ]
  },
  {
   "cell_type": "markdown",
   "id": "741f032c-a53c-45a4-8933-11efee18a81e",
   "metadata": {},
   "source": [
    "### (1) Write a program that asks user for their name and print out \"Hello,[name]\"."
   ]
  },
  {
   "cell_type": "code",
   "execution_count": 1,
   "id": "bdc51536-ce30-4b20-940a-38d26a599d79",
   "metadata": {},
   "outputs": [
    {
     "name": "stdin",
     "output_type": "stream",
     "text": [
      "Enter your name Nitin Rana\n"
     ]
    },
    {
     "name": "stdout",
     "output_type": "stream",
     "text": [
      "hello ['Nitin Rana']\n"
     ]
    }
   ],
   "source": [
    "#taking name as input\n",
    "name=input('Enter your name')\n",
    "print(\"hello\",[name])"
   ]
  },
  {
   "cell_type": "markdown",
   "id": "dc91b6f2-c927-4cb6-ab67-e27568d4585f",
   "metadata": {},
   "source": [
    "### (2) Write a program that asks the user for two numbers and write these numbers in a file using print()."
   ]
  },
  {
   "cell_type": "code",
   "execution_count": 2,
   "id": "3db83213-c3c2-4dbc-9f5b-8103eeca3a1e",
   "metadata": {},
   "outputs": [
    {
     "name": "stdin",
     "output_type": "stream",
     "text": [
      "Enter 1st Number 11\n",
      "Enter 2nd Number 55\n"
     ]
    }
   ],
   "source": [
    "# take two numbers for input\n",
    "number1=input(\"Enter 1st Number\")\n",
    "number2=input(\"Enter 2nd Number\")"
   ]
  },
  {
   "cell_type": "markdown",
   "id": "4dcf2d97-d455-4dea-9ac5-9439fc6da14a",
   "metadata": {},
   "source": [
    "### (3) Write a program that asks user for his name, age and gender and then use print statement to print them seperated by comma."
   ]
  },
  {
   "cell_type": "code",
   "execution_count": 3,
   "id": "33e3f464-4722-4c1d-8b1e-3e275edc5303",
   "metadata": {},
   "outputs": [
    {
     "name": "stdin",
     "output_type": "stream",
     "text": [
      "Enter Your Name Niti Rana\n",
      "Enter Your Age 19\n",
      "Enter your gender Male\n"
     ]
    },
    {
     "name": "stdout",
     "output_type": "stream",
     "text": [
      "['Niti Rana', '19', 'Male']\n"
     ]
    }
   ],
   "source": [
    "# taking name, age and gender as input\n",
    "name=input('Enter Your Name')\n",
    "age=input('Enter Your Age')\n",
    "gender=input('Enter your gender')\n",
    "print([name , age , gender])"
   ]
  },
  {
   "cell_type": "markdown",
   "id": "999f0812-093c-497b-96c0-59a25293ff59",
   "metadata": {},
   "source": [
    "### (4) Write a python program that prompts the user to enter their name and favourite color and then displays the message that includes their color."
   ]
  },
  {
   "cell_type": "code",
   "execution_count": 4,
   "id": "38588a91-75b1-4ae0-ab15-573fa8d97263",
   "metadata": {},
   "outputs": [
    {
     "name": "stdin",
     "output_type": "stream",
     "text": [
      "Enter Your name Nitin Rana\n",
      "Enter your Favourite color black\n"
     ]
    },
    {
     "name": "stdout",
     "output_type": "stream",
     "text": [
      "Nitin Rana Fav color is black\n"
     ]
    }
   ],
   "source": [
    "#taking name & color as input\n",
    "name=input('Enter Your name')\n",
    "color=input('Enter your Favourite color')\n",
    "print(name,\"Fav color is\", color)"
   ]
  },
  {
   "cell_type": "markdown",
   "id": "7c27fc71-50f2-4955-81aa-f9f690eaf7ff",
   "metadata": {},
   "source": [
    "## Lecture 2"
   ]
  },
  {
   "cell_type": "markdown",
   "id": "33823ea7-c44f-4125-8da6-71d167b4c795",
   "metadata": {},
   "source": [
    "### (6) Write a program that converts an integer into float value."
   ]
  },
  {
   "cell_type": "code",
   "execution_count": 5,
   "id": "3ab90e31-a455-4492-a73a-4f2db106374c",
   "metadata": {},
   "outputs": [
    {
     "data": {
      "text/plain": [
       "9.0"
      ]
     },
     "execution_count": 5,
     "metadata": {},
     "output_type": "execute_result"
    }
   ],
   "source": [
    "a=(9)\n",
    "b=float(a)\n",
    "b"
   ]
  },
  {
   "cell_type": "markdown",
   "id": "87e36cfa-cb33-4134-bd6e-325a09db6952",
   "metadata": {},
   "source": [
    "### (7) Write a program that takes input form the user and check the type of that variable."
   ]
  },
  {
   "cell_type": "code",
   "execution_count": 6,
   "id": "f4c7eee2-c92f-42ed-be75-1fbccc37e9c6",
   "metadata": {},
   "outputs": [
    {
     "data": {
      "text/plain": [
       "str"
      ]
     },
     "execution_count": 6,
     "metadata": {},
     "output_type": "execute_result"
    }
   ],
   "source": [
    "a=('enter')\n",
    "a\n",
    "type(a)"
   ]
  },
  {
   "cell_type": "markdown",
   "id": "cba63178-d432-4577-a46c-c9db8ab0fe19",
   "metadata": {},
   "source": [
    "### (8) From the given list = [1, 2, 3, 4, 5] print the value at index 4."
   ]
  },
  {
   "cell_type": "code",
   "execution_count": 7,
   "id": "6441444c-465c-4681-bb74-373782e73d1b",
   "metadata": {},
   "outputs": [
    {
     "name": "stdout",
     "output_type": "stream",
     "text": [
      "3\n"
     ]
    }
   ],
   "source": [
    "a=list((1,2,3,4,5))\n",
    "print(a[2])"
   ]
  },
  {
   "cell_type": "markdown",
   "id": "34fdfb72-6df2-4f48-85c5-e9eae94a32c8",
   "metadata": {},
   "source": [
    "### (9) Write a program that creates a dictionary as shown below {“name”: “ABC”, “job”: “Doctor”} and then prints the values of the dictionary)."
   ]
  },
  {
   "cell_type": "code",
   "execution_count": 8,
   "id": "9412ed03-9509-4a90-ad1e-d74e4f111713",
   "metadata": {},
   "outputs": [
    {
     "name": "stdout",
     "output_type": "stream",
     "text": [
      "{'name': 'Nitin', 'job': 'Engineer'}\n"
     ]
    }
   ],
   "source": [
    "dict={\"name\":\"Nitin\",\"job\":\"Engineer\"}\n",
    "print(dict)"
   ]
  },
  {
   "cell_type": "markdown",
   "id": "029accd2-d59a-4752-a3b0-4ec423430aa7",
   "metadata": {},
   "source": [
    "### (10) Write a program that takes the real and imaginary part of a complex number as input and then creates a complex number in Python using the input value."
   ]
  },
  {
   "cell_type": "code",
   "execution_count": 9,
   "id": "77849f3a-13fe-4ea6-ab56-1ca6bc9aac02",
   "metadata": {},
   "outputs": [
    {
     "name": "stdin",
     "output_type": "stream",
     "text": [
      "Enter x: 11\n",
      "Enter y: 58\n"
     ]
    },
    {
     "name": "stdout",
     "output_type": "stream",
     "text": [
      "Complex number (11+58j)\n"
     ]
    }
   ],
   "source": [
    "x=int(input('Enter x:'))\n",
    "y=int(input('Enter y:'))\n",
    "z = complex(x, y)\n",
    "print(\"Complex number\",z) "
   ]
  },
  {
   "cell_type": "markdown",
   "id": "e558a5fb-48bf-4296-b53f-0299e5f8a44f",
   "metadata": {},
   "source": [
    "### 11. Write a program that takes two numbers as input and checks whether the first number is greater than, less than, or equal to the second number using comparison operators."
   ]
  },
  {
   "cell_type": "code",
   "execution_count": 10,
   "id": "385d529a-9115-413c-b94f-fcb32fc3b24a",
   "metadata": {},
   "outputs": [
    {
     "name": "stdin",
     "output_type": "stream",
     "text": [
      "enter your first number 11\n",
      "enter your second number 88\n"
     ]
    },
    {
     "name": "stdout",
     "output_type": "stream",
     "text": [
      "num2 is greter then num1\n"
     ]
    }
   ],
   "source": [
    "num1=input('enter your first number')\n",
    "num2=input('enter your second number')\n",
    "if num1>num2:\n",
    "    print('num1 is greter then num2')\n",
    "else:\n",
    "    print('num2 is greter then num1')"
   ]
  },
  {
   "cell_type": "markdown",
   "id": "c0435b6c-4fd6-4eb3-9be1-7ea0eff60482",
   "metadata": {},
   "source": [
    "### 12. Write a program that takes a string as input and checks whether it contains a specific character using membership operators."
   ]
  },
  {
   "cell_type": "code",
   "execution_count": 11,
   "id": "9652e732-2ce5-4500-8185-7f8a8569ead1",
   "metadata": {},
   "outputs": [
    {
     "name": "stdout",
     "output_type": "stream",
     "text": [
      "True\n"
     ]
    }
   ],
   "source": [
    "s=('Heyy','Hii','Ciao')\n",
    "s\n",
    "print('Hii'in s)"
   ]
  },
  {
   "cell_type": "markdown",
   "id": "bb8140aa-b2e1-4912-8495-5ddf49823407",
   "metadata": {},
   "source": [
    "### 13.Write a program that takes a number as input and returns its square using arithmetic operators."
   ]
  },
  {
   "cell_type": "code",
   "execution_count": 12,
   "id": "037a890f-3c46-478f-9eb5-a58ceebcd3a6",
   "metadata": {},
   "outputs": [
    {
     "name": "stdout",
     "output_type": "stream",
     "text": [
      "36\n"
     ]
    }
   ],
   "source": [
    "n=6\n",
    "square=n*n\n",
    "print(square)"
   ]
  },
  {
   "cell_type": "markdown",
   "id": "3573a640-c5e4-4451-b2bc-3f280f38c66f",
   "metadata": {},
   "source": [
    "### 14.Write a program that takes a list of numbers as input and prints all the unique numbers with the help of sets"
   ]
  },
  {
   "cell_type": "code",
   "execution_count": 13,
   "id": "615501e1-1461-4b70-b7ed-2465b2e62314",
   "metadata": {},
   "outputs": [
    {
     "data": {
      "text/plain": [
       "{1, 4, 5, 8}"
      ]
     },
     "execution_count": 13,
     "metadata": {},
     "output_type": "execute_result"
    }
   ],
   "source": [
    "a=(1,5,4,8,4,8,4)\n",
    "a\n",
    "b=set(a)\n",
    "b"
   ]
  },
  {
   "cell_type": "markdown",
   "id": "3dd723d6-ac4c-4795-8eb6-93761b3a8bac",
   "metadata": {},
   "source": [
    "### 15.Write a Python program that takes an integer as input from the user and then checks if it is a positive number or not using the \">\" operator"
   ]
  },
  {
   "cell_type": "code",
   "execution_count": 14,
   "id": "9a5afd01-61a3-4e79-b6f1-7317420d1aa0",
   "metadata": {},
   "outputs": [
    {
     "name": "stdout",
     "output_type": "stream",
     "text": [
      "this is a neagtive number\n"
     ]
    }
   ],
   "source": [
    "n=-7\n",
    "if n>0:\n",
    "    print(\"This is positive number\")\n",
    "else:\n",
    "    print(\"this is a neagtive number\")"
   ]
  },
  {
   "cell_type": "markdown",
   "id": "aee9d06f-2c85-4e3f-92d4-0509ea878fad",
   "metadata": {},
   "source": [
    "### 16.Write a program that asks the user for a number and then prints out all the even numbers from 0 to that number."
   ]
  },
  {
   "cell_type": "code",
   "execution_count": 15,
   "id": "a5a125a7-9018-4589-a679-55cdd79242f1",
   "metadata": {},
   "outputs": [
    {
     "name": "stdin",
     "output_type": "stream",
     "text": [
      "Enter a number: 14\n"
     ]
    },
    {
     "name": "stdout",
     "output_type": "stream",
     "text": [
      "0\n",
      "2\n",
      "4\n",
      "6\n",
      "8\n",
      "10\n",
      "12\n"
     ]
    }
   ],
   "source": [
    "a = int(0)\n",
    "b = int(input(\"Enter a number:\"))\n",
    "for c in range(a,b):        \n",
    "       if c%2==0 :\n",
    "          print(c)"
   ]
  },
  {
   "cell_type": "markdown",
   "id": "8531daed-feed-47a2-a9d7-c903381365fc",
   "metadata": {},
   "source": [
    "### 17.Write a program that asks the user for a number and then prints out whether that number is even or odd."
   ]
  },
  {
   "cell_type": "code",
   "execution_count": 16,
   "id": "d6e9b303-7ef3-46c5-b441-6b2d1ce7ae24",
   "metadata": {},
   "outputs": [
    {
     "name": "stdin",
     "output_type": "stream",
     "text": [
      "Enter a number 51\n"
     ]
    },
    {
     "name": "stdout",
     "output_type": "stream",
     "text": [
      "The number is odd\n"
     ]
    }
   ],
   "source": [
    "i=int(input(\"Enter a number\"))\n",
    "if i%2==0:\n",
    "    print(\"The Number is Even\")\n",
    "else:\n",
    "    print(\"The number is odd\")"
   ]
  },
  {
   "cell_type": "markdown",
   "id": "baa21dfd-496b-4bbd-821d-5ce7d2b07370",
   "metadata": {},
   "source": [
    "### 18.Write a program that asks the user for a list of numbers and then prints out the sum of those numbers."
   ]
  },
  {
   "cell_type": "code",
   "execution_count": 19,
   "id": "fb910566-750e-4a59-9890-e9351334a5e7",
   "metadata": {},
   "outputs": [
    {
     "name": "stdin",
     "output_type": "stream",
     "text": [
      "Enter the number of elements 4\n",
      " 1\n",
      " 5\n",
      " 8\n",
      " 7\n"
     ]
    },
    {
     "name": "stdout",
     "output_type": "stream",
     "text": [
      "Sum of all elements in given list:  21\n"
     ]
    }
   ],
   "source": [
    "list = []\n",
    "n = int(input(\"Enter the number of elements\"))\n",
    "total = 0\n",
    "for i in range(0,n):\n",
    "    element = int(input())\n",
    "    list.append(element)\n",
    "    \n",
    "for a in range(0, len(list)):\n",
    "    total = total + list[a]\n",
    " \n",
    "print(\"Sum of all elements in given list: \", total) "
   ]
  },
  {
   "cell_type": "markdown",
   "id": "38b68292-3ebd-40c8-9838-4a38ea05887e",
   "metadata": {},
   "source": [
    "### 19.Write a program that asks the user for a list of numbers and then prints out the largest number in that list."
   ]
  },
  {
   "cell_type": "code",
   "execution_count": 1,
   "id": "b543f6d0-d660-479d-b631-b6fadae6bcb5",
   "metadata": {},
   "outputs": [
    {
     "name": "stdin",
     "output_type": "stream",
     "text": [
      "Enter the number of elements 4\n",
      " 11\n",
      " 15\n",
      " 6\n",
      " 0\n"
     ]
    },
    {
     "name": "stdout",
     "output_type": "stream",
     "text": [
      "Largest element is: 15\n"
     ]
    }
   ],
   "source": [
    "list = []\n",
    "n = int(input(\"Enter the number of elements\"))\n",
    "for i in range(0,n):\n",
    "    element = int(input())\n",
    "    list.append(element)\n",
    "    list.sort()\n",
    "\n",
    "print(\"Largest element is:\", list[-1])"
   ]
  },
  {
   "cell_type": "markdown",
   "id": "c80f35d5-7024-4e55-bd8c-85bf557cf795",
   "metadata": {},
   "source": [
    "### 20.Write a program that takes a list of numbers as input and returns a new list with only the even numbers from the original list.\n"
   ]
  },
  {
   "cell_type": "code",
   "execution_count": 4,
   "id": "88e37391-319c-48e2-9464-78b9f350294d",
   "metadata": {},
   "outputs": [
    {
     "name": "stdin",
     "output_type": "stream",
     "text": [
      "Enter the number of elements 4\n",
      " 12\n",
      " 25\n",
      " 66\n",
      " 32\n"
     ]
    },
    {
     "name": "stdout",
     "output_type": "stream",
     "text": [
      "[12, 66, 32]\n"
     ]
    }
   ],
   "source": [
    "list = []\n",
    "n = int(input(\"Enter the number of elements\"))\n",
    "for i in range(0,n):\n",
    "    element = int(input())\n",
    "    list.append(element)\n",
    "\n",
    "def filter(strings):\n",
    "    return [s for s in strings if s%2==0]\n",
    "\n",
    "filtered = filter(list)\n",
    "print(filtered)"
   ]
  },
  {
   "cell_type": "markdown",
   "id": "bbf14a36-7122-4249-9478-c54dedc627e8",
   "metadata": {},
   "source": [
    "### 21. Write a program that takes two lists of numbers as input and returns a new list that contains only the numbers that appear in both lists.\r\n"
   ]
  },
  {
   "cell_type": "code",
   "execution_count": 11,
   "id": "6a9edf5b-6577-4bc7-9e5e-e08c1f339765",
   "metadata": {},
   "outputs": [
    {
     "name": "stdin",
     "output_type": "stream",
     "text": [
      "Enter the number of elements in list-1 4\n",
      " 4\n",
      " 1\n",
      " 2\n",
      " 5\n",
      "Enter the number of elements in list-2 7\n",
      " 8\n",
      " 9\n",
      " 6\n",
      " 74\n",
      " 54\n",
      " 65\n",
      " 5\n"
     ]
    },
    {
     "name": "stdout",
     "output_type": "stream",
     "text": [
      "[5]\n"
     ]
    }
   ],
   "source": [
    "list1 = []\n",
    "n1 = int(input(\"Enter the number of elements in list-1\"))\n",
    "for i in range(0,n1):\n",
    "    element1 = int(input())\n",
    "    list1.append(element1)\n",
    "\n",
    "list2 = []\n",
    "n2 = int(input(\"Enter the number of elements in list-2\"))\n",
    "for j in range(0,n2):\n",
    "    element2 = int(input())\n",
    "    list2.append(element2)\n",
    "def intersection(list1, list2):\n",
    "    list3 = [value for value in list1 if value in list2]\n",
    "    return list3\n",
    "print(intersection(list1, list2))"
   ]
  },
  {
   "cell_type": "markdown",
   "id": "144cf4c0-a14f-454f-8ad1-4b4aed7135dd",
   "metadata": {},
   "source": [
    "### 22.Write a program that takes a list of numbers as input and returns the average of those numbers using arithmetic operators."
   ]
  },
  {
   "cell_type": "code",
   "execution_count": 10,
   "id": "1b5984ac-2ab1-4843-bf8b-b14722b97159",
   "metadata": {},
   "outputs": [
    {
     "name": "stdin",
     "output_type": "stream",
     "text": [
      "Enter the number of elements 4\n",
      " 12\n",
      " 45\n",
      " 78\n",
      " 96\n"
     ]
    },
    {
     "name": "stdout",
     "output_type": "stream",
     "text": [
      "Average of all elements in given list:  57.75\n"
     ]
    }
   ],
   "source": [
    "list = []\n",
    "n = int(input(\"Enter the number of elements\"))\n",
    "a = 0\n",
    "for i in range(0,n):\n",
    "    f = int(input())\n",
    "    list.append(f)\n",
    "\n",
    "for c in range(0, len(list)):\n",
    "    a = a + list[c]/len(list)\n",
    " \n",
    "print(\"Average of all elements in given list: \", a) "
   ]
  }
 ],
 "metadata": {
  "kernelspec": {
   "display_name": "Python 3 (ipykernel)",
   "language": "python",
   "name": "python3"
  },
  "language_info": {
   "codemirror_mode": {
    "name": "ipython",
    "version": 3
   },
   "file_extension": ".py",
   "mimetype": "text/x-python",
   "name": "python",
   "nbconvert_exporter": "python",
   "pygments_lexer": "ipython3",
   "version": "3.11.7"
  }
 },
 "nbformat": 4,
 "nbformat_minor": 5
}
