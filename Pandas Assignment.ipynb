{
 "cells": [
  {
   "cell_type": "code",
   "execution_count": 1,
   "id": "408b9f70-0c39-4879-9c89-3fa09844fff9",
   "metadata": {},
   "outputs": [],
   "source": [
    "import pandas as pd"
   ]
  },
  {
   "cell_type": "markdown",
   "id": "2defc14e-a70a-43c2-879e-1f7d11444905",
   "metadata": {},
   "source": [
    "### make a Pandas Dataframe with Two dimensional list"
   ]
  },
  {
   "cell_type": "code",
   "execution_count": 2,
   "id": "416293a5-2164-41e2-bf8e-81a7a1225086",
   "metadata": {},
   "outputs": [
    {
     "data": {
      "text/html": [
       "<div>\n",
       "<style scoped>\n",
       "    .dataframe tbody tr th:only-of-type {\n",
       "        vertical-align: middle;\n",
       "    }\n",
       "\n",
       "    .dataframe tbody tr th {\n",
       "        vertical-align: top;\n",
       "    }\n",
       "\n",
       "    .dataframe thead th {\n",
       "        text-align: right;\n",
       "    }\n",
       "</style>\n",
       "<table border=\"1\" class=\"dataframe\">\n",
       "  <thead>\n",
       "    <tr style=\"text-align: right;\">\n",
       "      <th></th>\n",
       "      <th>list 1</th>\n",
       "      <th>list 2</th>\n",
       "    </tr>\n",
       "  </thead>\n",
       "  <tbody>\n",
       "    <tr>\n",
       "      <th>0</th>\n",
       "      <td>1</td>\n",
       "      <td>2</td>\n",
       "    </tr>\n",
       "    <tr>\n",
       "      <th>1</th>\n",
       "      <td>3</td>\n",
       "      <td>4</td>\n",
       "    </tr>\n",
       "  </tbody>\n",
       "</table>\n",
       "</div>"
      ],
      "text/plain": [
       "   list 1  list 2\n",
       "0       1       2\n",
       "1       3       4"
      ]
     },
     "execution_count": 2,
     "metadata": {},
     "output_type": "execute_result"
    }
   ],
   "source": [
    "list=[[1,2],[3,4]]\n",
    "df= pd.DataFrame(list, columns=(\"list 1\",\"list 2\"))\n",
    "df"
   ]
  },
  {
   "cell_type": "markdown",
   "id": "876ee5a9-d6f6-4951-961c-196d630ee323",
   "metadata": {},
   "source": [
    "### Creating DataFrame from dict of narray/lists"
   ]
  },
  {
   "cell_type": "code",
   "execution_count": 3,
   "id": "94e8786c-989d-44bb-98fe-39d96c3079cc",
   "metadata": {},
   "outputs": [
    {
     "name": "stdout",
     "output_type": "stream",
     "text": [
      "      Hello  World\n",
      "hey       1      5\n",
      "hii       2      6\n",
      "bye       3      7\n",
      "good      4      8\n"
     ]
    },
    {
     "data": {
      "text/html": [
       "<div>\n",
       "<style scoped>\n",
       "    .dataframe tbody tr th:only-of-type {\n",
       "        vertical-align: middle;\n",
       "    }\n",
       "\n",
       "    .dataframe tbody tr th {\n",
       "        vertical-align: top;\n",
       "    }\n",
       "\n",
       "    .dataframe thead th {\n",
       "        text-align: right;\n",
       "    }\n",
       "</style>\n",
       "<table border=\"1\" class=\"dataframe\">\n",
       "  <thead>\n",
       "    <tr style=\"text-align: right;\">\n",
       "      <th></th>\n",
       "      <th>hey</th>\n",
       "      <th>hii</th>\n",
       "      <th>bye</th>\n",
       "      <th>good</th>\n",
       "    </tr>\n",
       "  </thead>\n",
       "  <tbody>\n",
       "    <tr>\n",
       "      <th>Hello</th>\n",
       "      <td>1</td>\n",
       "      <td>2</td>\n",
       "      <td>3</td>\n",
       "      <td>4</td>\n",
       "    </tr>\n",
       "    <tr>\n",
       "      <th>World</th>\n",
       "      <td>5</td>\n",
       "      <td>6</td>\n",
       "      <td>7</td>\n",
       "      <td>8</td>\n",
       "    </tr>\n",
       "  </tbody>\n",
       "</table>\n",
       "</div>"
      ],
      "text/plain": [
       "       hey  hii  bye  good\n",
       "Hello    1    2    3     4\n",
       "World    5    6    7     8"
      ]
     },
     "execution_count": 3,
     "metadata": {},
     "output_type": "execute_result"
    }
   ],
   "source": [
    "data={\n",
    "    \"Hello\": [1,2,3,4],\n",
    "    \"World\": [5,6,7,8],\n",
    "}\n",
    "df= pd.DataFrame(data, index=['hey','hii','bye','good'])\n",
    "print(df)\n",
    "df.transpose()"
   ]
  },
  {
   "cell_type": "markdown",
   "id": "d12364a8-654a-48c7-8d04-ac75634b087c",
   "metadata": {},
   "source": [
    "### Creating a Pandas dataframe using list of tuples"
   ]
  },
  {
   "cell_type": "code",
   "execution_count": 4,
   "id": "b8cea1cf-1ef3-4245-b9fb-63aa9ef1add3",
   "metadata": {},
   "outputs": [
    {
     "name": "stdout",
     "output_type": "stream",
     "text": [
      "    Cars  Milage  Position\n",
      "0   Audi      25         2\n",
      "1  Dodge      30         1\n",
      "2    BMW      28         3\n"
     ]
    },
    {
     "data": {
      "text/html": [
       "<div>\n",
       "<style scoped>\n",
       "    .dataframe tbody tr th:only-of-type {\n",
       "        vertical-align: middle;\n",
       "    }\n",
       "\n",
       "    .dataframe tbody tr th {\n",
       "        vertical-align: top;\n",
       "    }\n",
       "\n",
       "    .dataframe thead th {\n",
       "        text-align: right;\n",
       "    }\n",
       "</style>\n",
       "<table border=\"1\" class=\"dataframe\">\n",
       "  <thead>\n",
       "    <tr style=\"text-align: right;\">\n",
       "      <th>Milage</th>\n",
       "      <th>25</th>\n",
       "      <th>28</th>\n",
       "      <th>30</th>\n",
       "    </tr>\n",
       "    <tr>\n",
       "      <th>Cars</th>\n",
       "      <th></th>\n",
       "      <th></th>\n",
       "      <th></th>\n",
       "    </tr>\n",
       "  </thead>\n",
       "  <tbody>\n",
       "    <tr>\n",
       "      <th>Audi</th>\n",
       "      <td>2.0</td>\n",
       "      <td>NaN</td>\n",
       "      <td>NaN</td>\n",
       "    </tr>\n",
       "    <tr>\n",
       "      <th>BMW</th>\n",
       "      <td>NaN</td>\n",
       "      <td>3.0</td>\n",
       "      <td>NaN</td>\n",
       "    </tr>\n",
       "    <tr>\n",
       "      <th>Dodge</th>\n",
       "      <td>NaN</td>\n",
       "      <td>NaN</td>\n",
       "      <td>1.0</td>\n",
       "    </tr>\n",
       "  </tbody>\n",
       "</table>\n",
       "</div>"
      ],
      "text/plain": [
       "Milage   25   28   30\n",
       "Cars                 \n",
       "Audi    2.0  NaN  NaN\n",
       "BMW     NaN  3.0  NaN\n",
       "Dodge   NaN  NaN  1.0"
      ]
     },
     "execution_count": 4,
     "metadata": {},
     "output_type": "execute_result"
    }
   ],
   "source": [
    "data=[(\"Audi\",25,2),(\"Dodge\",30,1),(\"BMW\",28,3)]\n",
    "df= pd.DataFrame(data, columns=[\"Cars\",\"Milage\",\"Position\"])\n",
    "print(df)\n",
    "a=df.pivot(index=\"Cars\", columns=\"Milage\", values=\"Position\")\n",
    "a"
   ]
  },
  {
   "cell_type": "markdown",
   "id": "cf7d1f9a-343d-4760-85c6-63f362aff38e",
   "metadata": {},
   "source": [
    "###  Convert List of Dictionaries to a Pandas DataFrame Using pd.DataFrame.from_dict()"
   ]
  },
  {
   "cell_type": "code",
   "execution_count": 5,
   "id": "026a4a5a-47ed-45fa-b04e-5895fdab2eb3",
   "metadata": {},
   "outputs": [
    {
     "data": {
      "text/html": [
       "<div>\n",
       "<style scoped>\n",
       "    .dataframe tbody tr th:only-of-type {\n",
       "        vertical-align: middle;\n",
       "    }\n",
       "\n",
       "    .dataframe tbody tr th {\n",
       "        vertical-align: top;\n",
       "    }\n",
       "\n",
       "    .dataframe thead th {\n",
       "        text-align: right;\n",
       "    }\n",
       "</style>\n",
       "<table border=\"1\" class=\"dataframe\">\n",
       "  <thead>\n",
       "    <tr style=\"text-align: right;\">\n",
       "      <th></th>\n",
       "      <th>My</th>\n",
       "      <th>Mine</th>\n",
       "      <th>I</th>\n",
       "    </tr>\n",
       "  </thead>\n",
       "  <tbody>\n",
       "    <tr>\n",
       "      <th>0</th>\n",
       "      <td>name</td>\n",
       "      <td>Age</td>\n",
       "      <td>Am</td>\n",
       "    </tr>\n",
       "    <tr>\n",
       "      <th>1</th>\n",
       "      <td>Nitin</td>\n",
       "      <td>19</td>\n",
       "      <td>engineer</td>\n",
       "    </tr>\n",
       "  </tbody>\n",
       "</table>\n",
       "</div>"
      ],
      "text/plain": [
       "      My Mine         I\n",
       "0   name  Age        Am\n",
       "1  Nitin   19  engineer"
      ]
     },
     "execution_count": 5,
     "metadata": {},
     "output_type": "execute_result"
    }
   ],
   "source": [
    "data=[\n",
    "    {\"My\":\"name\",\n",
    "    \"Mine\":\"Age\",\n",
    "    \"I\":\"Am\",},\n",
    "    {\"My\":\"Nitin\",\n",
    "      \"Mine\":\"19\",\n",
    "      \"I\":\"engineer\",\n",
    "    }\n",
    "    \n",
    "]\n",
    "df= pd.json_normalize(data)\n",
    "df"
   ]
  },
  {
   "cell_type": "markdown",
   "id": "497fc73d-3642-49f8-82f7-f36358aa0c01",
   "metadata": {},
   "source": [
    "### covert list  nested dictionary into pandas dataframe"
   ]
  },
  {
   "cell_type": "code",
   "execution_count": 6,
   "id": "6260a82e-70ae-445e-a1d2-0d9ba3e4122e",
   "metadata": {},
   "outputs": [
    {
     "data": {
      "text/html": [
       "<div>\n",
       "<style scoped>\n",
       "    .dataframe tbody tr th:only-of-type {\n",
       "        vertical-align: middle;\n",
       "    }\n",
       "\n",
       "    .dataframe tbody tr th {\n",
       "        vertical-align: top;\n",
       "    }\n",
       "\n",
       "    .dataframe thead th {\n",
       "        text-align: right;\n",
       "    }\n",
       "</style>\n",
       "<table border=\"1\" class=\"dataframe\">\n",
       "  <thead>\n",
       "    <tr style=\"text-align: right;\">\n",
       "      <th></th>\n",
       "      <th>Country</th>\n",
       "      <th>Capital</th>\n",
       "      <th>Population</th>\n",
       "    </tr>\n",
       "  </thead>\n",
       "  <tbody>\n",
       "    <tr>\n",
       "      <th>1</th>\n",
       "      <td>India</td>\n",
       "      <td>Delhi</td>\n",
       "      <td>141.72 crores</td>\n",
       "    </tr>\n",
       "    <tr>\n",
       "      <th>2</th>\n",
       "      <td>Japan</td>\n",
       "      <td>Tokyo</td>\n",
       "      <td>12.51 crores</td>\n",
       "    </tr>\n",
       "    <tr>\n",
       "      <th>3</th>\n",
       "      <td>USA</td>\n",
       "      <td>Washington, D.C.</td>\n",
       "      <td>33.33 crores</td>\n",
       "    </tr>\n",
       "  </tbody>\n",
       "</table>\n",
       "</div>"
      ],
      "text/plain": [
       "  Country           Capital     Population\n",
       "1   India             Delhi  141.72 crores\n",
       "2   Japan             Tokyo  12.51 crores \n",
       "3     USA  Washington, D.C.   33.33 crores"
      ]
     },
     "execution_count": 6,
     "metadata": {},
     "output_type": "execute_result"
    }
   ],
   "source": [
    "countries = {\n",
    "    \"1\": {\"Country\": \"India\",\n",
    "          \"Capital\": \"Delhi\",\n",
    "          \"Population\": \"141.72 crores\"},\n",
    "    \"2\": {\"Country\": \"Japan\",\n",
    "          \"Capital\": \"Tokyo\",\n",
    "          \"Population\": \"12.51 crores \"},\n",
    "    \"3\": {\"Country\": \"USA\",\n",
    "          \"Capital\": \"Washington, D.C.\",\n",
    "          \"Population\": \"33.33 crores\"}\n",
    "}\n",
    "df= pd.DataFrame.from_dict(countries, orient=\"index\")\n",
    "df\n"
   ]
  },
  {
   "cell_type": "markdown",
   "id": "4d694814-a718-40fd-ba25-c0ad01237de0",
   "metadata": {},
   "source": [
    "### Pandas dataframe using regex"
   ]
  },
  {
   "cell_type": "code",
   "execution_count": 7,
   "id": "b7c50698-234b-4b59-9f80-607865a0023e",
   "metadata": {},
   "outputs": [
    {
     "data": {
      "text/html": [
       "<div>\n",
       "<style scoped>\n",
       "    .dataframe tbody tr th:only-of-type {\n",
       "        vertical-align: middle;\n",
       "    }\n",
       "\n",
       "    .dataframe tbody tr th {\n",
       "        vertical-align: top;\n",
       "    }\n",
       "\n",
       "    .dataframe thead th {\n",
       "        text-align: right;\n",
       "    }\n",
       "</style>\n",
       "<table border=\"1\" class=\"dataframe\">\n",
       "  <thead>\n",
       "    <tr style=\"text-align: right;\">\n",
       "      <th></th>\n",
       "      <th>Country</th>\n",
       "      <th>Capital</th>\n",
       "      <th>Population</th>\n",
       "    </tr>\n",
       "  </thead>\n",
       "  <tbody>\n",
       "    <tr>\n",
       "      <th>1</th>\n",
       "      <td>India</td>\n",
       "      <td>Delhi</td>\n",
       "      <td>141.72 crores</td>\n",
       "    </tr>\n",
       "    <tr>\n",
       "      <th>2</th>\n",
       "      <td>Japan</td>\n",
       "      <td>Tokyo</td>\n",
       "      <td>12.51 crores</td>\n",
       "    </tr>\n",
       "    <tr>\n",
       "      <th>3</th>\n",
       "      <td>USA</td>\n",
       "      <td>Washington, D.C.</td>\n",
       "      <td>33.33 crores</td>\n",
       "    </tr>\n",
       "  </tbody>\n",
       "</table>\n",
       "</div>"
      ],
      "text/plain": [
       "  Country           Capital     Population\n",
       "1   India             Delhi  141.72 crores\n",
       "2   Japan             Tokyo  12.51 crores \n",
       "3     USA  Washington, D.C.   33.33 crores"
      ]
     },
     "execution_count": 7,
     "metadata": {},
     "output_type": "execute_result"
    }
   ],
   "source": [
    "df"
   ]
  },
  {
   "cell_type": "code",
   "execution_count": 8,
   "id": "e0c03c72-831e-4fbf-8bcc-3463c47c8a8c",
   "metadata": {},
   "outputs": [
    {
     "data": {
      "text/html": [
       "<div>\n",
       "<style scoped>\n",
       "    .dataframe tbody tr th:only-of-type {\n",
       "        vertical-align: middle;\n",
       "    }\n",
       "\n",
       "    .dataframe tbody tr th {\n",
       "        vertical-align: top;\n",
       "    }\n",
       "\n",
       "    .dataframe thead th {\n",
       "        text-align: right;\n",
       "    }\n",
       "</style>\n",
       "<table border=\"1\" class=\"dataframe\">\n",
       "  <thead>\n",
       "    <tr style=\"text-align: right;\">\n",
       "      <th></th>\n",
       "      <th>Country</th>\n",
       "      <th>Capital</th>\n",
       "      <th>Population</th>\n",
       "    </tr>\n",
       "  </thead>\n",
       "  <tbody>\n",
       "    <tr>\n",
       "      <th>1</th>\n",
       "      <td>India</td>\n",
       "      <td>Delhi</td>\n",
       "      <td>141.72 crores</td>\n",
       "    </tr>\n",
       "    <tr>\n",
       "      <th>2</th>\n",
       "      <td>Japan</td>\n",
       "      <td>Tokyo</td>\n",
       "      <td>12.51 crores</td>\n",
       "    </tr>\n",
       "    <tr>\n",
       "      <th>3</th>\n",
       "      <td>U.S.A</td>\n",
       "      <td>Washington, D.C.</td>\n",
       "      <td>33.33 crores</td>\n",
       "    </tr>\n",
       "  </tbody>\n",
       "</table>\n",
       "</div>"
      ],
      "text/plain": [
       "  Country           Capital     Population\n",
       "1   India             Delhi  141.72 crores\n",
       "2   Japan             Tokyo  12.51 crores \n",
       "3   U.S.A  Washington, D.C.   33.33 crores"
      ]
     },
     "execution_count": 8,
     "metadata": {},
     "output_type": "execute_result"
    }
   ],
   "source": [
    "df.replace(to_replace=\"USA\", value=\"U.S.A\", regex=True)"
   ]
  },
  {
   "cell_type": "markdown",
   "id": "07b42dfc-2357-4cc2-b3fb-3fe7ed49be8b",
   "metadata": {},
   "source": [
    "### Creating a dataframe from Pandas series"
   ]
  },
  {
   "cell_type": "code",
   "execution_count": 9,
   "id": "423e9dea-aa00-44c4-80b7-b43ea8b5be1c",
   "metadata": {},
   "outputs": [
    {
     "data": {
      "text/html": [
       "<div>\n",
       "<style scoped>\n",
       "    .dataframe tbody tr th:only-of-type {\n",
       "        vertical-align: middle;\n",
       "    }\n",
       "\n",
       "    .dataframe tbody tr th {\n",
       "        vertical-align: top;\n",
       "    }\n",
       "\n",
       "    .dataframe thead th {\n",
       "        text-align: right;\n",
       "    }\n",
       "</style>\n",
       "<table border=\"1\" class=\"dataframe\">\n",
       "  <thead>\n",
       "    <tr style=\"text-align: right;\">\n",
       "      <th></th>\n",
       "      <th>A</th>\n",
       "      <th>B</th>\n",
       "    </tr>\n",
       "  </thead>\n",
       "  <tbody>\n",
       "    <tr>\n",
       "      <th>0</th>\n",
       "      <td>Apple</td>\n",
       "      <td>11</td>\n",
       "    </tr>\n",
       "    <tr>\n",
       "      <th>1</th>\n",
       "      <td>Red</td>\n",
       "      <td>22</td>\n",
       "    </tr>\n",
       "    <tr>\n",
       "      <th>2</th>\n",
       "      <td>Banana</td>\n",
       "      <td>33</td>\n",
       "    </tr>\n",
       "    <tr>\n",
       "      <th>3</th>\n",
       "      <td>yellow</td>\n",
       "      <td>44</td>\n",
       "    </tr>\n",
       "    <tr>\n",
       "      <th>4</th>\n",
       "      <td>grapes</td>\n",
       "      <td>55</td>\n",
       "    </tr>\n",
       "    <tr>\n",
       "      <th>5</th>\n",
       "      <td>green</td>\n",
       "      <td>66</td>\n",
       "    </tr>\n",
       "  </tbody>\n",
       "</table>\n",
       "</div>"
      ],
      "text/plain": [
       "        A   B\n",
       "0   Apple  11\n",
       "1     Red  22\n",
       "2  Banana  33\n",
       "3  yellow  44\n",
       "4  grapes  55\n",
       "5   green  66"
      ]
     },
     "execution_count": 9,
     "metadata": {},
     "output_type": "execute_result"
    }
   ],
   "source": [
    "A= [\"Apple\",\"Red\",\"Banana\",\"yellow\",\"grapes\",\"green\"]\n",
    "B= [11,22,33,44,55,66]\n",
    "df1=pd.Series(A)\n",
    "df2=pd.Series(B)\n",
    "\n",
    "Auth={\n",
    "    'A':df1,\n",
    "    'B':df2\n",
    "}\n",
    "c= pd.DataFrame(Auth)\n",
    "c"
   ]
  },
  {
   "cell_type": "markdown",
   "id": "dbc47346-c2aa-4316-b7c9-2ffcb0609f8f",
   "metadata": {},
   "source": [
    "### Create pandas dataframe from string using pandas read_clipboard()"
   ]
  },
  {
   "cell_type": "code",
   "execution_count": 10,
   "id": "9c74c8be-f226-4c99-9528-08f58560b336",
   "metadata": {},
   "outputs": [
    {
     "data": {
      "text/html": [
       "<div>\n",
       "<style scoped>\n",
       "    .dataframe tbody tr th:only-of-type {\n",
       "        vertical-align: middle;\n",
       "    }\n",
       "\n",
       "    .dataframe tbody tr th {\n",
       "        vertical-align: top;\n",
       "    }\n",
       "\n",
       "    .dataframe thead th {\n",
       "        text-align: right;\n",
       "    }\n",
       "</style>\n",
       "<table border=\"1\" class=\"dataframe\">\n",
       "  <thead>\n",
       "    <tr style=\"text-align: right;\">\n",
       "      <th></th>\n",
       "      <th>Reindexing in Pandas DataFrame</th>\n",
       "    </tr>\n",
       "  </thead>\n",
       "  <tbody>\n",
       "  </tbody>\n",
       "</table>\n",
       "</div>"
      ],
      "text/plain": [
       "Empty DataFrame\n",
       "Columns: [Reindexing in Pandas DataFrame]\n",
       "Index: []"
      ]
     },
     "execution_count": 10,
     "metadata": {},
     "output_type": "execute_result"
    }
   ],
   "source": [
    "df = pd.read_clipboard(sep=\";\")\n",
    "df"
   ]
  },
  {
   "cell_type": "markdown",
   "id": "47d815a7-02dc-4bc6-a181-b952c143f025",
   "metadata": {},
   "source": [
    "### Clean the string data in the given Pandas Dataframe"
   ]
  },
  {
   "cell_type": "code",
   "execution_count": null,
   "id": "3fc74f7e-49c0-44ac-9018-c10d2712f4cc",
   "metadata": {},
   "outputs": [],
   "source": []
  },
  {
   "cell_type": "markdown",
   "id": "6b1291b2-7346-46ee-bf51-6120789e89de",
   "metadata": {},
   "source": [
    "### Reindexing in Pandas DataFrame"
   ]
  },
  {
   "cell_type": "code",
   "execution_count": 11,
   "id": "7f26e09f-9a0e-4732-a0bc-ed37eec32512",
   "metadata": {},
   "outputs": [],
   "source": [
    "import numpy as np"
   ]
  },
  {
   "cell_type": "code",
   "execution_count": 15,
   "id": "7f162ac6-f0c4-41ed-a2bc-7aab20f47327",
   "metadata": {},
   "outputs": [
    {
     "name": "stdout",
     "output_type": "stream",
     "text": [
      "          A         B         C         D         E\n",
      "a  0.577308  0.476711  0.734871  0.262299  0.169644\n",
      "b  0.133774  0.680889  0.267863  0.587748  0.690347\n",
      "c  0.078619  0.110382  0.724008  0.681211  0.787025\n",
      "d  0.247265  0.559592  0.757905  0.635286  0.955729\n",
      "e  0.594685  0.895949  0.064185  0.833945  0.794144\n",
      "\n",
      " Reidex values\n",
      "          A         B         C         D         E\n",
      "e  0.594685  0.895949  0.064185  0.833945  0.794144\n",
      "d  0.247265  0.559592  0.757905  0.635286  0.955729\n",
      "c  0.078619  0.110382  0.724008  0.681211  0.787025\n",
      "b  0.133774  0.680889  0.267863  0.587748  0.690347\n",
      "a  0.577308  0.476711  0.734871  0.262299  0.169644\n"
     ]
    }
   ],
   "source": [
    "column=[\"A\",\"B\",\"C\",\"D\",\"E\"]\n",
    "rows=[\"a\",\"b\",\"c\",\"d\",\"e\"]\n",
    "data= pd.DataFrame(np.random.rand(5,5), columns=column, index=rows)\n",
    "print(data)\n",
    "print(\"\\n Reidex values\")\n",
    "print(data.reindex([\"e\",\"d\",\"c\",\"b\",\"a\"]))"
   ]
  },
  {
   "cell_type": "markdown",
   "id": "649278ac-f3be-4c8e-9341-d387c71af67d",
   "metadata": {},
   "source": [
    "### Mapping external values to dataframe values in Pandas"
   ]
  },
  {
   "cell_type": "code",
   "execution_count": 27,
   "id": "ef99a101-489a-4688-b35c-f3a3c997ed64",
   "metadata": {},
   "outputs": [
    {
     "name": "stdout",
     "output_type": "stream",
     "text": [
      "  first_name last_name  Age\n",
      "0      Nitin      Rana   19\n",
      "1      Amrit     Singh   20\n",
      "2      Pawan     Singh   20\n",
      "3      Akash     kumar   21\n",
      "4    Randeep     Singh   22\n",
      "  first_name last_name  Age Qualification\n",
      "0      Nitin      Rana   19        B.tech\n",
      "1      Amrit     Singh   20          MBBS\n",
      "2      Pawan     Singh   20           BBA\n",
      "3      Akash     kumar   21    B pharmacy\n",
      "4    Randeep     Singh   22   Agriculture\n"
     ]
    },
    {
     "data": {
      "text/html": [
       "<div>\n",
       "<style scoped>\n",
       "    .dataframe tbody tr th:only-of-type {\n",
       "        vertical-align: middle;\n",
       "    }\n",
       "\n",
       "    .dataframe tbody tr th {\n",
       "        vertical-align: top;\n",
       "    }\n",
       "\n",
       "    .dataframe thead th {\n",
       "        text-align: right;\n",
       "    }\n",
       "</style>\n",
       "<table border=\"1\" class=\"dataframe\">\n",
       "  <thead>\n",
       "    <tr style=\"text-align: right;\">\n",
       "      <th></th>\n",
       "      <th>first_name</th>\n",
       "      <th>last_name</th>\n",
       "      <th>Age</th>\n",
       "      <th>Qualification</th>\n",
       "    </tr>\n",
       "  </thead>\n",
       "  <tbody>\n",
       "    <tr>\n",
       "      <th>0</th>\n",
       "      <td>Nitin</td>\n",
       "      <td>Rana</td>\n",
       "      <td>19</td>\n",
       "      <td>B.tech</td>\n",
       "    </tr>\n",
       "    <tr>\n",
       "      <th>1</th>\n",
       "      <td>Amrit</td>\n",
       "      <td>Singh</td>\n",
       "      <td>20</td>\n",
       "      <td>MBBS</td>\n",
       "    </tr>\n",
       "    <tr>\n",
       "      <th>2</th>\n",
       "      <td>Pawan</td>\n",
       "      <td>Singh</td>\n",
       "      <td>20</td>\n",
       "      <td>BBA</td>\n",
       "    </tr>\n",
       "    <tr>\n",
       "      <th>3</th>\n",
       "      <td>A</td>\n",
       "      <td>kumar</td>\n",
       "      <td>21</td>\n",
       "      <td>B pharmacy</td>\n",
       "    </tr>\n",
       "    <tr>\n",
       "      <th>4</th>\n",
       "      <td>R</td>\n",
       "      <td>Singh</td>\n",
       "      <td>22</td>\n",
       "      <td>Agriculture</td>\n",
       "    </tr>\n",
       "  </tbody>\n",
       "</table>\n",
       "</div>"
      ],
      "text/plain": [
       "  first_name last_name  Age Qualification\n",
       "0      Nitin      Rana   19        B.tech\n",
       "1      Amrit     Singh   20          MBBS\n",
       "2      Pawan     Singh   20           BBA\n",
       "3          A     kumar   21    B pharmacy\n",
       "4          R     Singh   22   Agriculture"
      ]
     },
     "execution_count": 27,
     "metadata": {},
     "output_type": "execute_result"
    }
   ],
   "source": [
    "data={'first_name':[\"Nitin\",\"Amrit\",\"Pawan\",\"Akash\",\"Randeep\"],\n",
    "     'last_name': [\"Rana\",\"Singh\",\"Singh\",\"kumar\",\"Singh\"],\n",
    "      'Age': [19,20,20,21,22]\n",
    "     }\n",
    "df= pd.DataFrame(data, columns=['first_name','last_name','Age'])\n",
    "print(df)\n",
    "Ndata={\n",
    "    'Nitin': \"B.tech\",\n",
    "    'Amrit': \"MBBS\",\n",
    "    'Pawan': \"BBA\",\n",
    "    'Akash': \"B pharmacy\",\n",
    "    \"Randeep\": \"Agriculture\"\n",
    "}\n",
    "\n",
    "df[\"Qualification\"]=df[\"first_name\"].map(Ndata)\n",
    "print(df)\n",
    "\n",
    "D1={\n",
    "    'Akash': \"A\",\n",
    "    'Randeep':'R'\n",
    "}\n",
    "df1=df.replace({\"first_name\":D1})\n",
    "df1"
   ]
  },
  {
   "cell_type": "markdown",
   "id": "2cb73e28-0342-4f90-9647-e062fc151311",
   "metadata": {},
   "source": [
    "### Adding CSv file in Pandas dataframes "
   ]
  },
  {
   "cell_type": "code",
   "execution_count": 30,
   "id": "4bfba4c0-5abd-4b4e-ab32-7d5544590af1",
   "metadata": {},
   "outputs": [
    {
     "data": {
      "text/html": [
       "<div>\n",
       "<style scoped>\n",
       "    .dataframe tbody tr th:only-of-type {\n",
       "        vertical-align: middle;\n",
       "    }\n",
       "\n",
       "    .dataframe tbody tr th {\n",
       "        vertical-align: top;\n",
       "    }\n",
       "\n",
       "    .dataframe thead th {\n",
       "        text-align: right;\n",
       "    }\n",
       "</style>\n",
       "<table border=\"1\" class=\"dataframe\">\n",
       "  <thead>\n",
       "    <tr style=\"text-align: right;\">\n",
       "      <th></th>\n",
       "      <th>Name</th>\n",
       "      <th>Team</th>\n",
       "      <th>Number</th>\n",
       "      <th>Position</th>\n",
       "      <th>Age</th>\n",
       "      <th>Height</th>\n",
       "      <th>Weight</th>\n",
       "      <th>College</th>\n",
       "      <th>Salary</th>\n",
       "    </tr>\n",
       "  </thead>\n",
       "  <tbody>\n",
       "    <tr>\n",
       "      <th>0</th>\n",
       "      <td>Avery Bradley</td>\n",
       "      <td>Boston Celtics</td>\n",
       "      <td>0.0</td>\n",
       "      <td>PG</td>\n",
       "      <td>25.0</td>\n",
       "      <td>6-2</td>\n",
       "      <td>180.0</td>\n",
       "      <td>Texas</td>\n",
       "      <td>7730337.0</td>\n",
       "    </tr>\n",
       "    <tr>\n",
       "      <th>1</th>\n",
       "      <td>Jae Crowder</td>\n",
       "      <td>Boston Celtics</td>\n",
       "      <td>99.0</td>\n",
       "      <td>SF</td>\n",
       "      <td>25.0</td>\n",
       "      <td>6-6</td>\n",
       "      <td>235.0</td>\n",
       "      <td>Marquette</td>\n",
       "      <td>6796117.0</td>\n",
       "    </tr>\n",
       "    <tr>\n",
       "      <th>2</th>\n",
       "      <td>John Holland</td>\n",
       "      <td>Boston Celtics</td>\n",
       "      <td>30.0</td>\n",
       "      <td>SG</td>\n",
       "      <td>27.0</td>\n",
       "      <td>6-5</td>\n",
       "      <td>205.0</td>\n",
       "      <td>Boston University</td>\n",
       "      <td>NaN</td>\n",
       "    </tr>\n",
       "    <tr>\n",
       "      <th>3</th>\n",
       "      <td>R.J. Hunter</td>\n",
       "      <td>Boston Celtics</td>\n",
       "      <td>28.0</td>\n",
       "      <td>SG</td>\n",
       "      <td>22.0</td>\n",
       "      <td>6-5</td>\n",
       "      <td>185.0</td>\n",
       "      <td>Georgia State</td>\n",
       "      <td>1148640.0</td>\n",
       "    </tr>\n",
       "    <tr>\n",
       "      <th>4</th>\n",
       "      <td>Jonas Jerebko</td>\n",
       "      <td>Boston Celtics</td>\n",
       "      <td>8.0</td>\n",
       "      <td>PF</td>\n",
       "      <td>29.0</td>\n",
       "      <td>6-10</td>\n",
       "      <td>231.0</td>\n",
       "      <td>NaN</td>\n",
       "      <td>5000000.0</td>\n",
       "    </tr>\n",
       "  </tbody>\n",
       "</table>\n",
       "</div>"
      ],
      "text/plain": [
       "            Name            Team  Number Position   Age Height  Weight  \\\n",
       "0  Avery Bradley  Boston Celtics     0.0       PG  25.0    6-2   180.0   \n",
       "1    Jae Crowder  Boston Celtics    99.0       SF  25.0    6-6   235.0   \n",
       "2   John Holland  Boston Celtics    30.0       SG  27.0    6-5   205.0   \n",
       "3    R.J. Hunter  Boston Celtics    28.0       SG  22.0    6-5   185.0   \n",
       "4  Jonas Jerebko  Boston Celtics     8.0       PF  29.0   6-10   231.0   \n",
       "\n",
       "             College     Salary  \n",
       "0              Texas  7730337.0  \n",
       "1          Marquette  6796117.0  \n",
       "2  Boston University        NaN  \n",
       "3      Georgia State  1148640.0  \n",
       "4                NaN  5000000.0  "
      ]
     },
     "execution_count": 30,
     "metadata": {},
     "output_type": "execute_result"
    }
   ],
   "source": [
    "df= pd.read_csv(\"https://media.geeksforgeeks.org/wp-content/uploads/nba.csv\")\n",
    "df.head()"
   ]
  },
  {
   "cell_type": "markdown",
   "id": "528712c6-d942-4910-9fef-3239ff57591f",
   "metadata": {},
   "source": [
    "### Renaming Columns And rows in dataframes "
   ]
  },
  {
   "cell_type": "code",
   "execution_count": 37,
   "id": "ea0442c3-2c08-4b0f-9741-217d90ed5479",
   "metadata": {},
   "outputs": [
    {
     "name": "stdout",
     "output_type": "stream",
     "text": [
      "    Name  Age\n",
      "0  Nitin   19\n",
      "1  Amrit   20\n",
      "2  pawan   21\n"
     ]
    },
    {
     "data": {
      "text/html": [
       "<div>\n",
       "<style scoped>\n",
       "    .dataframe tbody tr th:only-of-type {\n",
       "        vertical-align: middle;\n",
       "    }\n",
       "\n",
       "    .dataframe tbody tr th {\n",
       "        vertical-align: top;\n",
       "    }\n",
       "\n",
       "    .dataframe thead th {\n",
       "        text-align: right;\n",
       "    }\n",
       "</style>\n",
       "<table border=\"1\" class=\"dataframe\">\n",
       "  <thead>\n",
       "    <tr style=\"text-align: right;\">\n",
       "      <th></th>\n",
       "      <th>Col1</th>\n",
       "      <th>Col2</th>\n",
       "    </tr>\n",
       "  </thead>\n",
       "  <tbody>\n",
       "    <tr>\n",
       "      <th>R1</th>\n",
       "      <td>Nitin</td>\n",
       "      <td>19</td>\n",
       "    </tr>\n",
       "    <tr>\n",
       "      <th>R2</th>\n",
       "      <td>Amrit</td>\n",
       "      <td>20</td>\n",
       "    </tr>\n",
       "    <tr>\n",
       "      <th>R3</th>\n",
       "      <td>pawan</td>\n",
       "      <td>21</td>\n",
       "    </tr>\n",
       "  </tbody>\n",
       "</table>\n",
       "</div>"
      ],
      "text/plain": [
       "     Col1  Col2\n",
       "R1  Nitin    19\n",
       "R2  Amrit    20\n",
       "R3  pawan    21"
      ]
     },
     "execution_count": 37,
     "metadata": {},
     "output_type": "execute_result"
    }
   ],
   "source": [
    "df=pd.DataFrame({\n",
    "    \"Name\": [\"Nitin\", \"Amrit\", \"pawan\"],\n",
    "    \"Age\": [19,20,21]\n",
    "})\n",
    "print(df)\n",
    "\n",
    "df.columns=[\"Col1\",\"Col2\"]\n",
    "df.index=[\"R1\",\"R2\",\"R3\"]\n",
    "df"
   ]
  },
  {
   "cell_type": "code",
   "execution_count": null,
   "id": "9de18c7b-ab6f-4ccb-815c-423dfff92d86",
   "metadata": {},
   "outputs": [],
   "source": []
  }
 ],
 "metadata": {
  "kernelspec": {
   "display_name": "Python 3 (ipykernel)",
   "language": "python",
   "name": "python3"
  },
  "language_info": {
   "codemirror_mode": {
    "name": "ipython",
    "version": 3
   },
   "file_extension": ".py",
   "mimetype": "text/x-python",
   "name": "python",
   "nbconvert_exporter": "python",
   "pygments_lexer": "ipython3",
   "version": "3.11.7"
  }
 },
 "nbformat": 4,
 "nbformat_minor": 5
}
